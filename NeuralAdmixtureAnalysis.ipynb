{
 "cells": [
  {
   "cell_type": "markdown",
   "id": "67ad4f68",
   "metadata": {},
   "source": [
    "## Neural Admixture vs ADMIXTURE for Global Ancestry"
   ]
  },
  {
   "cell_type": "markdown",
   "id": "a22728bb",
   "metadata": {},
   "source": [
    "What is admixture analysis\n",
    "Optimization problem Q and F\n",
    "Difference in algo - EM + Block relaxation vs Encoder Decoder"
   ]
  },
  {
   "cell_type": "markdown",
   "id": "03cad037",
   "metadata": {},
   "source": [
    "## Plotting using both to compare output"
   ]
  },
  {
   "cell_type": "code",
   "execution_count": 1,
   "id": "856f4a48",
   "metadata": {},
   "outputs": [],
   "source": [
    "import warnings\n",
    "warnings.filterwarnings('ignore')\n",
    "\n",
    "import matplotlib.pyplot as plt\n",
    "import subprocess\n",
    "import pandas as pd\n",
    "import os\n",
    "import shutil"
   ]
  },
  {
   "cell_type": "code",
   "execution_count": 2,
   "id": "9fad86ab",
   "metadata": {},
   "outputs": [],
   "source": [
    "# !pip install neural-admixture\n",
    "# !pip install --upgrade numpy numba numexpr"
   ]
  },
  {
   "cell_type": "code",
   "execution_count": 3,
   "id": "3ed9a438",
   "metadata": {},
   "outputs": [],
   "source": [
    "PREFIX = \"example_data\" \n",
    "data_dir = \"example_data/\"\n",
    "output_dir = \"outputs\" \n",
    "os.makedirs(output_dir, exist_ok=True)\n",
    "K_values = [3] # running only for K = 3 populations for now"
   ]
  },
  {
   "cell_type": "code",
   "execution_count": 4,
   "id": "4794b3cd",
   "metadata": {},
   "outputs": [],
   "source": [
    "sampleinfo = pd.read_csv(f\"{data_dir}{PREFIX}.tsv\", sep=\"\\t\")\n",
    "sample_to_pop = dict(zip(list(sampleinfo[\"Sample name\"]), list(sampleinfo[\"Population code\"])))\n",
    "samples = [line.split()[0] for line in open(f\"{data_dir}{PREFIX}.fam\", \"r\").readlines()]\n",
    "pops = [sample_to_pop.get(item, \"NA\") for item in samples]"
   ]
  },
  {
   "cell_type": "code",
   "execution_count": 5,
   "id": "3791a634",
   "metadata": {},
   "outputs": [],
   "source": [
    "def plot(file_path):\n",
    "    fig = plt.figure()\n",
    "    fig.set_size_inches((10, 8))\n",
    "\n",
    "    plotind = 1\n",
    "\n",
    "    ax = fig.add_subplot(3, 1, plotind)\n",
    "\n",
    "    #data = pd.read_csv(\"outputs/neural_admixture.%s.Q\"%K, delim_whitespace=True, header=None)\n",
    "    data = pd.read_csv(file_path, delim_whitespace=True, header=None)\n",
    "    cols = list(data.columns)\n",
    "    data[\"sample\"] = samples\n",
    "    data[\"pop\"] = pops\n",
    "    data = data.sort_values([\"pop\"]+cols)\n",
    "    data.plot.bar(stacked=True, ax=ax, width=1)\n",
    "    ax.spines['right'].set_visible(False)\n",
    "    ax.spines['top'].set_visible(False)\n",
    "    ax.yaxis.set_ticks_position('left')\n",
    "    ax.xaxis.set_ticks_position('bottom')\n",
    "\n",
    "    # Only plot label for first sample in each pop\n",
    "    xticklabels = []\n",
    "    currpop = \"\"\n",
    "    for i in range(data.shape[0]):\n",
    "        if data[\"pop\"].values[i] == currpop:\n",
    "            xticklabels.append(\"\")\n",
    "        else:\n",
    "            xticklabels.append(data[\"pop\"].values[i])\n",
    "            currpop = data[\"pop\"].values[i]\n",
    "    ax.set_xticklabels(xticklabels)\n",
    "\n",
    "    plotind += 1\n",
    "    fig.tight_layout()\n",
    "    "
   ]
  },
  {
   "cell_type": "markdown",
   "id": "38aec9f1",
   "metadata": {},
   "source": [
    "## ADMIXTURE"
   ]
  },
  {
   "cell_type": "code",
   "execution_count": 6,
   "id": "82797f53",
   "metadata": {},
   "outputs": [
    {
     "name": "stdout",
     "output_type": "stream",
     "text": [
      "Running ADMIXTURE for K=3...\n",
      "Process complete. Plotting...\n"
     ]
    },
    {
     "data": {
      "image/png": "[encoded data removed]",
      "text/plain": [
       "<Figure size 720x576 with 1 Axes>"
      ]
     },
     "metadata": {
      "needs_background": "light"
     },
     "output_type": "display_data"
    }
   ],
   "source": [
    "for K in K_values:\n",
    "    print(f\"Running ADMIXTURE for K={K}...\")\n",
    "    # Construct the command to run\n",
    "    cmd = f\"admixture --cv {data_dir}{PREFIX}.bed {K}\"\n",
    "    \n",
    "    # Execute the command and capture the output\n",
    "    process = subprocess.Popen(cmd, shell=True, stdout=subprocess.PIPE, stderr=subprocess.PIPE)\n",
    "    stdout, stderr = process.communicate()\n",
    "    \n",
    "    # Decode and print the output to console\n",
    "#     print(stdout.decode())\n",
    "    if (stderr):\n",
    "        print(stderr.decode())\n",
    "    else:\n",
    "        print(\"Process complete. Plotting...\")\n",
    "    \n",
    "    files = [f\"{PREFIX}.{K}.P\", f\"{PREFIX}.{K}.Q\"]\n",
    "    out_files = [f\"admixture.{K}.P\", f\"admixture.{K}.Q\"]\n",
    "    \n",
    "    # Move files to output folder\n",
    "    for old,new in zip(files,out_files):\n",
    "        if os.path.exists(old):\n",
    "            shutil.move(old, os.path.join(output_dir, new))\n",
    "            \n",
    "    #Plotting the graph for ADMIXTURE\n",
    "    plot(f\"outputs/admixture.{K}.Q\")\n",
    "            \n",
    "            "
   ]
  },
  {
   "cell_type": "markdown",
   "id": "ea03afb9",
   "metadata": {},
   "source": [
    "## Neural ADMIXTURE"
   ]
  },
  {
   "cell_type": "code",
   "execution_count": 7,
   "id": "aa5e1c69",
   "metadata": {
    "scrolled": false
   },
   "outputs": [
    {
     "name": "stdout",
     "output_type": "stream",
     "text": [
      "Running Neural ADMIXTURE for K=3...\n",
      "/home/yshukla/.local/lib/python3.9/site-packages/pandas/core/arrays/masked.py:60: UserWarning: Pandas requires version '1.3.6' or newer of 'bottleneck' (version '1.3.2' currently installed).\n",
      "  from pandas.core import (\n",
      "Mapping files:   0%|          | 0/3 [00:00<?, ?it/s]/home/yshukla/.local/lib/python3.9/site-packages/neural_admixture/src/snp_reader.py:55: FutureWarning: The 'delim_whitespace' keyword in pd.read_csv is deprecated and will be removed in a future version. Use ``sep='\\s+'`` instead\n",
      "  _, _, G = read_plink(str(Path(file).with_suffix(\"\")))\n",
      "/home/yshukla/.local/lib/python3.9/site-packages/neural_admixture/src/snp_reader.py:55: FutureWarning: The 'delim_whitespace' keyword in pd.read_csv is deprecated and will be removed in a future version. Use ``sep='\\s+'`` instead\n",
      "  _, _, G = read_plink(str(Path(file).with_suffix(\"\")))\n",
      "Mapping files: 100%|██████████| 3/3 [00:00<00:00, 11.99it/s]\n",
      "Epoch 1: 100%|██████████| 2/2 [00:16<00:00,  8.44s/it]\n",
      "Epoch 2: 100%|██████████| 2/2 [00:16<00:00,  8.30s/it]\n",
      "Epoch 3: 100%|██████████| 2/2 [00:14<00:00,  7.10s/it]\n",
      "Epoch 4: 100%|██████████| 2/2 [00:14<00:00,  7.15s/it]\n",
      "Epoch 5: 100%|██████████| 2/2 [00:15<00:00,  7.90s/it]\n",
      "Epoch 6: 100%|██████████| 2/2 [00:13<00:00,  6.95s/it]\n",
      "Epoch 7: 100%|██████████| 2/2 [00:16<00:00,  8.45s/it]\n",
      "Epoch 8: 100%|██████████| 2/2 [00:15<00:00,  7.95s/it]\n",
      "Epoch 9: 100%|██████████| 2/2 [00:16<00:00,  8.10s/it]\n",
      "Epoch 10: 100%|██████████| 2/2 [00:13<00:00,  6.85s/it]\n",
      "Epoch 11: 100%|██████████| 2/2 [00:16<00:00,  8.50s/it]\n",
      "Epoch 12: 100%|██████████| 2/2 [00:15<00:00,  7.69s/it]\n",
      "Epoch 13: 100%|██████████| 2/2 [00:16<00:00,  8.05s/it]\n",
      "Epoch 14: 100%|██████████| 2/2 [00:17<00:00,  8.75s/it]\n",
      "Epoch 15: 100%|██████████| 2/2 [00:16<00:00,  8.10s/it]\n",
      "Epoch 16: 100%|██████████| 2/2 [00:17<00:00,  8.75s/it]\n",
      "Epoch 17: 100%|██████████| 2/2 [00:15<00:00,  7.85s/it]\n",
      "Epoch 18: 100%|██████████| 2/2 [00:15<00:00,  7.50s/it]\n",
      "Epoch 19: 100%|██████████| 2/2 [00:14<00:00,  7.50s/it]\n",
      "\n"
     ]
    },
    {
     "data": {
      "image/png": "[encoded data removed]",
      "text/plain": [
       "<Figure size 720x576 with 1 Axes>"
      ]
     },
     "metadata": {
      "needs_background": "light"
     },
     "output_type": "display_data"
    }
   ],
   "source": [
    "for K in K_values:\n",
    "    \n",
    "    print(f\"Running Neural ADMIXTURE for K={K}...\")\n",
    "    \n",
    "    cmd = f\"~/.local/bin/neural-admixture train --k {K} --data_path {data_dir}{PREFIX}.bed --save_dir {output_dir} --name neural_admixture --max_epochs 500 --seed 43 --initialization pcarchetypal\"\n",
    "    \n",
    "    # Execute the command and capture the output\n",
    "    process = subprocess.Popen(cmd, shell=True, stdout=subprocess.PIPE, stderr=subprocess.PIPE)\n",
    "    stdout, stderr = process.communicate()\n",
    "    \n",
    "    # Decode and print the output to console\n",
    "#     print(stdout.decode())\n",
    "    if stderr:\n",
    "        print(stderr.decode())\n",
    "    else:\n",
    "        print(\"Process complete. Plotting...\")\n",
    "    \n",
    "    plot(f\"outputs/neural_admixture.{K}.Q\")"
   ]
  },
  {
   "cell_type": "markdown",
   "id": "92ee8126",
   "metadata": {},
   "source": [
    "## Runtime and Memory Comparison"
   ]
  },
  {
   "cell_type": "markdown",
   "id": "d30b2983",
   "metadata": {},
   "source": []
  },
  {
   "cell_type": "code",
   "execution_count": null,
   "id": "a441b609",
   "metadata": {},
   "outputs": [],
   "source": [
    "# Code to calculate memory and runtime!"
   ]
  },
  {
   "cell_type": "code",
   "execution_count": null,
   "id": "cab7217e",
   "metadata": {},
   "outputs": [],
   "source": [
    "# for K in K_values:\n",
    "#     # Construct the command to run\n",
    "#     cmd = f\"/usr/bin/time -al -p admixture --cv {data_dir}{PREFIX}.bed {K}\"\n",
    "    \n",
    "#     # Execute the command and capture the output\n",
    "#     process = subprocess.Popen(cmd, shell=True, stdout=subprocess.PIPE, stderr=subprocess.PIPE)\n",
    "#     stdout, stderr = process.communicate()\n",
    "    \n",
    "#     # Decode and print the output to console\n",
    "#     print(stdout.decode())\n",
    "#     print(stderr.decode())\n",
    "    \n",
    "#     files = [f\"{PREFIX}.{K}.P\", f\"{PREFIX}.{K}.Q\"]\n",
    "#     out_files = [f\"admixture.{K}.P\", f\"admixture.{K}.Q\"]\n",
    "    \n",
    "#     for old,new in zip(files,out_files):\n",
    "#         if os.path.exists(old):\n",
    "#             shutil.move(old, os.path.join(output_dir, new))"
   ]
  },
  {
   "cell_type": "code",
   "execution_count": null,
   "id": "916c10da",
   "metadata": {},
   "outputs": [],
   "source": [
    "# for K in K_values:\n",
    "#     # Construct the command to run\n",
    "#     cmd = f\"/usr/bin/time -al -p ~/.local/bin/neural-admixture train --k {K} --data_path {data_dir}{PREFIX}.bed --save_dir {output_dir} --name neural_admixture --max_epochs 500 --seed 43 --initialization pcarchetypal\"\n",
    "    \n",
    "#     # Execute the command and capture the output\n",
    "#     process = subprocess.Popen(cmd, shell=True, stdout=subprocess.PIPE, stderr=subprocess.PIPE)\n",
    "#     stdout, stderr = process.communicate()\n",
    "    \n",
    "#     # Decode and print the output to console\n",
    "#     print(stdout.decode())\n",
    "#     print(stderr.decode())"
   ]
  }
 ],
 "metadata": {
  "kernelspec": {
   "display_name": "Python 3 (ipykernel)",
   "language": "python",
   "name": "python3"
  },
  "language_info": {
   "codemirror_mode": {
    "name": "ipython",
    "version": 3
   },
   "file_extension": ".py",
   "mimetype": "text/x-python",
   "name": "python",
   "nbconvert_exporter": "python",
   "pygments_lexer": "ipython3",
   "version": "3.9.5"
  }
 },
 "nbformat": 4,
 "nbformat_minor": 5
}
